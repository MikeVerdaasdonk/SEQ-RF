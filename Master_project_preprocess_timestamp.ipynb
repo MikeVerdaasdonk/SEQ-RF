{
 "cells": [
  {
   "cell_type": "code",
   "execution_count": 1,
   "id": "first-handle",
   "metadata": {},
   "outputs": [],
   "source": [
    "##package needed to do the exercise\n",
    "import pandas as pd\n",
    "from openpyxl import Workbook"
   ]
  },
  {
   "cell_type": "code",
   "execution_count": null,
   "id": "atomic-begin",
   "metadata": {},
   "outputs": [],
   "source": [
    "df = pd.read_csv('C:/Users/s151675/Documents/Jaar_master_2/Kwartiel 3,4/Master project/data/201026 Aanlevering SEH/201026 Aanlevering SEH/201026 SEH Orders.csv',header=None,sep=None, engine='python')\n",
    "# print(df)"
   ]
  },
  {
   "cell_type": "code",
   "execution_count": null,
   "id": "identified-replication",
   "metadata": {},
   "outputs": [],
   "source": [
    "rows = len(df)\n",
    "column1 =[]\n",
    "column2 =[]\n",
    "column3 =[]\n",
    "column4 =[]\n",
    "column5 =[]\n",
    "column6 =[]\n",
    "for i in range(0,rows-1):\n",
    "    column1.append(df.iloc[i,0])\n",
    "    column2.append(df.iloc[i, 1])\n",
    "    column3.append(str(df.iloc[i, 2]))\n",
    "    column4.append(df.iloc[i, 3])\n",
    "    column5.append(df.iloc[i, 4])\n",
    "    date = df.iloc[i,3]\n",
    "    print(date)\n",
    "    time = df.iloc[i,4]\n",
    "    date_string = str(date)\n",
    "    time_string = str(time)\n",
    "\n",
    "    new_string = date_string[0:11] + time_string[0:8]\n",
    "    column6.append(new_string)\n",
    "#\n",
    "\n",
    "\n",
    "\n",
    "workbook = Workbook()\n",
    "sheet = workbook.active\n",
    "for j in range(0,rows-1):\n",
    "    sheet.cell(j+1,1).value = column1[j]\n",
    "    sheet.cell(j + 1, 2).value = column2[j]\n",
    "    sheet.cell(j + 1, 3).value = column3[j]\n",
    "    sheet.cell(j + 1, 4).value = column4[j]\n",
    "    sheet.cell(j + 1, 5).value = column5[j]\n",
    "    sheet.cell(j + 1, 6).value = column6[j]\n",
    "\n",
    "\n",
    "workbook.save(filename='C:/Users/s151675/Documents/Jaar_master_2/Kwartiel 3,4/Master project/Data aangepast/test_new.xlsx')"
   ]
  },
  {
   "cell_type": "code",
   "execution_count": null,
   "id": "miniature-tiger",
   "metadata": {},
   "outputs": [],
   "source": [
    "\n",
    "\n"
   ]
  }
 ],
 "metadata": {
  "kernelspec": {
   "display_name": "Python 3",
   "language": "python",
   "name": "python3"
  },
  "language_info": {
   "codemirror_mode": {
    "name": "ipython",
    "version": 3
   },
   "file_extension": ".py",
   "mimetype": "text/x-python",
   "name": "python",
   "nbconvert_exporter": "python",
   "pygments_lexer": "ipython3",
   "version": "3.8.8"
  }
 },
 "nbformat": 4,
 "nbformat_minor": 5
}
